{
 "cells": [
  {
   "cell_type": "code",
   "execution_count": 1,
   "id": "4578bb44",
   "metadata": {},
   "outputs": [],
   "source": [
    "import pandas as pd\n",
    "import numpy as np\n",
    "import matplotlib.pyplot as plt\n",
    "%matplotlib inline\n",
    "import seaborn as sns\n",
    "from datetime import datetime\n",
    "from mlxtend.preprocessing import TransactionEncoder\n",
    "from mlxtend.frequent_patterns import apriori\n",
    "from mlxtend.frequent_patterns import association_rules\n",
    "import warnings \n",
    "warnings.filterwarnings(\"ignore\")"
   ]
  },
  {
   "cell_type": "markdown",
   "id": "c77d7b8d",
   "metadata": {},
   "source": [
    "# Problem 1 - Sales Data Analysis"
   ]
  },
  {
   "cell_type": "code",
   "execution_count": 2,
   "id": "6d9af2b9",
   "metadata": {},
   "outputs": [
    {
     "data": {
      "text/html": [
       "<div>\n",
       "<style scoped>\n",
       "    .dataframe tbody tr th:only-of-type {\n",
       "        vertical-align: middle;\n",
       "    }\n",
       "\n",
       "    .dataframe tbody tr th {\n",
       "        vertical-align: top;\n",
       "    }\n",
       "\n",
       "    .dataframe thead th {\n",
       "        text-align: right;\n",
       "    }\n",
       "</style>\n",
       "<table border=\"1\" class=\"dataframe\">\n",
       "  <thead>\n",
       "    <tr style=\"text-align: right;\">\n",
       "      <th></th>\n",
       "      <th>Date</th>\n",
       "      <th>Order_id</th>\n",
       "      <th>Product</th>\n",
       "    </tr>\n",
       "  </thead>\n",
       "  <tbody>\n",
       "    <tr>\n",
       "      <th>0</th>\n",
       "      <td>01-01-2018</td>\n",
       "      <td>1</td>\n",
       "      <td>yogurt</td>\n",
       "    </tr>\n",
       "    <tr>\n",
       "      <th>1</th>\n",
       "      <td>01-01-2018</td>\n",
       "      <td>1</td>\n",
       "      <td>pork</td>\n",
       "    </tr>\n",
       "    <tr>\n",
       "      <th>2</th>\n",
       "      <td>01-01-2018</td>\n",
       "      <td>1</td>\n",
       "      <td>sandwich bags</td>\n",
       "    </tr>\n",
       "    <tr>\n",
       "      <th>3</th>\n",
       "      <td>01-01-2018</td>\n",
       "      <td>1</td>\n",
       "      <td>lunch meat</td>\n",
       "    </tr>\n",
       "    <tr>\n",
       "      <th>4</th>\n",
       "      <td>01-01-2018</td>\n",
       "      <td>1</td>\n",
       "      <td>all- purpose</td>\n",
       "    </tr>\n",
       "  </tbody>\n",
       "</table>\n",
       "</div>"
      ],
      "text/plain": [
       "         Date  Order_id        Product\n",
       "0  01-01-2018         1         yogurt\n",
       "1  01-01-2018         1           pork\n",
       "2  01-01-2018         1  sandwich bags\n",
       "3  01-01-2018         1     lunch meat\n",
       "4  01-01-2018         1   all- purpose"
      ]
     },
     "execution_count": 2,
     "metadata": {},
     "output_type": "execute_result"
    }
   ],
   "source": [
    "ds=pd.read_csv('C:/Users/dheepig/Desktop/Dheepika/Great Lakes/Session 10- Marketing and Retail/Project/Milestone -2/Datasets/dataset_group.csv')\n",
    "ds.head()"
   ]
  },
  {
   "cell_type": "markdown",
   "id": "51ce7718",
   "metadata": {},
   "source": [
    "# Question 1. Agenda & Executive Summary of the data"
   ]
  },
  {
   "cell_type": "code",
   "execution_count": 3,
   "id": "7760b860",
   "metadata": {},
   "outputs": [
    {
     "data": {
      "text/html": [
       "<div>\n",
       "<style scoped>\n",
       "    .dataframe tbody tr th:only-of-type {\n",
       "        vertical-align: middle;\n",
       "    }\n",
       "\n",
       "    .dataframe tbody tr th {\n",
       "        vertical-align: top;\n",
       "    }\n",
       "\n",
       "    .dataframe thead th {\n",
       "        text-align: right;\n",
       "    }\n",
       "</style>\n",
       "<table border=\"1\" class=\"dataframe\">\n",
       "  <thead>\n",
       "    <tr style=\"text-align: right;\">\n",
       "      <th></th>\n",
       "      <th>Date</th>\n",
       "      <th>Order_id</th>\n",
       "      <th>Product</th>\n",
       "    </tr>\n",
       "  </thead>\n",
       "  <tbody>\n",
       "    <tr>\n",
       "      <th>20636</th>\n",
       "      <td>25-02-2020</td>\n",
       "      <td>1138</td>\n",
       "      <td>soda</td>\n",
       "    </tr>\n",
       "    <tr>\n",
       "      <th>20637</th>\n",
       "      <td>25-02-2020</td>\n",
       "      <td>1138</td>\n",
       "      <td>paper towels</td>\n",
       "    </tr>\n",
       "    <tr>\n",
       "      <th>20638</th>\n",
       "      <td>26-02-2020</td>\n",
       "      <td>1139</td>\n",
       "      <td>soda</td>\n",
       "    </tr>\n",
       "    <tr>\n",
       "      <th>20639</th>\n",
       "      <td>26-02-2020</td>\n",
       "      <td>1139</td>\n",
       "      <td>laundry detergent</td>\n",
       "    </tr>\n",
       "    <tr>\n",
       "      <th>20640</th>\n",
       "      <td>26-02-2020</td>\n",
       "      <td>1139</td>\n",
       "      <td>shampoo</td>\n",
       "    </tr>\n",
       "  </tbody>\n",
       "</table>\n",
       "</div>"
      ],
      "text/plain": [
       "             Date  Order_id            Product\n",
       "20636  25-02-2020      1138               soda\n",
       "20637  25-02-2020      1138       paper towels\n",
       "20638  26-02-2020      1139               soda\n",
       "20639  26-02-2020      1139  laundry detergent\n",
       "20640  26-02-2020      1139            shampoo"
      ]
     },
     "execution_count": 3,
     "metadata": {},
     "output_type": "execute_result"
    }
   ],
   "source": [
    "ds.tail()"
   ]
  },
  {
   "cell_type": "code",
   "execution_count": 4,
   "id": "0fa1a6f9",
   "metadata": {},
   "outputs": [
    {
     "name": "stdout",
     "output_type": "stream",
     "text": [
      "<class 'pandas.core.frame.DataFrame'>\n",
      "RangeIndex: 20641 entries, 0 to 20640\n",
      "Data columns (total 3 columns):\n",
      " #   Column    Non-Null Count  Dtype \n",
      "---  ------    --------------  ----- \n",
      " 0   Date      20641 non-null  object\n",
      " 1   Order_id  20641 non-null  int64 \n",
      " 2   Product   20641 non-null  object\n",
      "dtypes: int64(1), object(2)\n",
      "memory usage: 483.9+ KB\n"
     ]
    }
   ],
   "source": [
    "ds.info()"
   ]
  },
  {
   "cell_type": "code",
   "execution_count": 5,
   "id": "e07d0147",
   "metadata": {},
   "outputs": [
    {
     "name": "stdout",
     "output_type": "stream",
     "text": [
      "There are total 20641 rows and 3 columns in the dataset\n"
     ]
    }
   ],
   "source": [
    "row, col = ds.shape\n",
    "print(\"There are total {}\".format(row), \"rows and {}\".format(col), \"columns in the dataset\")"
   ]
  },
  {
   "cell_type": "code",
   "execution_count": 6,
   "id": "10667899",
   "metadata": {},
   "outputs": [
    {
     "data": {
      "text/html": [
       "<div>\n",
       "<style scoped>\n",
       "    .dataframe tbody tr th:only-of-type {\n",
       "        vertical-align: middle;\n",
       "    }\n",
       "\n",
       "    .dataframe tbody tr th {\n",
       "        vertical-align: top;\n",
       "    }\n",
       "\n",
       "    .dataframe thead th {\n",
       "        text-align: right;\n",
       "    }\n",
       "</style>\n",
       "<table border=\"1\" class=\"dataframe\">\n",
       "  <thead>\n",
       "    <tr style=\"text-align: right;\">\n",
       "      <th></th>\n",
       "      <th>count</th>\n",
       "      <th>mean</th>\n",
       "      <th>std</th>\n",
       "      <th>min</th>\n",
       "      <th>25%</th>\n",
       "      <th>50%</th>\n",
       "      <th>75%</th>\n",
       "      <th>max</th>\n",
       "    </tr>\n",
       "  </thead>\n",
       "  <tbody>\n",
       "    <tr>\n",
       "      <th>Order_id</th>\n",
       "      <td>20641.0</td>\n",
       "      <td>575.986289</td>\n",
       "      <td>328.557078</td>\n",
       "      <td>1.0</td>\n",
       "      <td>292.0</td>\n",
       "      <td>581.0</td>\n",
       "      <td>862.0</td>\n",
       "      <td>1139.0</td>\n",
       "    </tr>\n",
       "  </tbody>\n",
       "</table>\n",
       "</div>"
      ],
      "text/plain": [
       "            count        mean         std  min    25%    50%    75%     max\n",
       "Order_id  20641.0  575.986289  328.557078  1.0  292.0  581.0  862.0  1139.0"
      ]
     },
     "execution_count": 6,
     "metadata": {},
     "output_type": "execute_result"
    }
   ],
   "source": [
    "ds.describe().T"
   ]
  },
  {
   "cell_type": "code",
   "execution_count": 7,
   "id": "3763ed54",
   "metadata": {},
   "outputs": [
    {
     "data": {
      "text/html": [
       "<div>\n",
       "<style scoped>\n",
       "    .dataframe tbody tr th:only-of-type {\n",
       "        vertical-align: middle;\n",
       "    }\n",
       "\n",
       "    .dataframe tbody tr th {\n",
       "        vertical-align: top;\n",
       "    }\n",
       "\n",
       "    .dataframe thead th {\n",
       "        text-align: right;\n",
       "    }\n",
       "</style>\n",
       "<table border=\"1\" class=\"dataframe\">\n",
       "  <thead>\n",
       "    <tr style=\"text-align: right;\">\n",
       "      <th></th>\n",
       "      <th>count</th>\n",
       "      <th>unique</th>\n",
       "      <th>top</th>\n",
       "      <th>freq</th>\n",
       "      <th>mean</th>\n",
       "      <th>std</th>\n",
       "      <th>min</th>\n",
       "      <th>25%</th>\n",
       "      <th>50%</th>\n",
       "      <th>75%</th>\n",
       "      <th>max</th>\n",
       "    </tr>\n",
       "  </thead>\n",
       "  <tbody>\n",
       "    <tr>\n",
       "      <th>Date</th>\n",
       "      <td>20641</td>\n",
       "      <td>603</td>\n",
       "      <td>08-02-2019</td>\n",
       "      <td>183</td>\n",
       "      <td>NaN</td>\n",
       "      <td>NaN</td>\n",
       "      <td>NaN</td>\n",
       "      <td>NaN</td>\n",
       "      <td>NaN</td>\n",
       "      <td>NaN</td>\n",
       "      <td>NaN</td>\n",
       "    </tr>\n",
       "    <tr>\n",
       "      <th>Order_id</th>\n",
       "      <td>20641.0</td>\n",
       "      <td>NaN</td>\n",
       "      <td>NaN</td>\n",
       "      <td>NaN</td>\n",
       "      <td>575.986289</td>\n",
       "      <td>328.557078</td>\n",
       "      <td>1.0</td>\n",
       "      <td>292.0</td>\n",
       "      <td>581.0</td>\n",
       "      <td>862.0</td>\n",
       "      <td>1139.0</td>\n",
       "    </tr>\n",
       "    <tr>\n",
       "      <th>Product</th>\n",
       "      <td>20641</td>\n",
       "      <td>37</td>\n",
       "      <td>poultry</td>\n",
       "      <td>640</td>\n",
       "      <td>NaN</td>\n",
       "      <td>NaN</td>\n",
       "      <td>NaN</td>\n",
       "      <td>NaN</td>\n",
       "      <td>NaN</td>\n",
       "      <td>NaN</td>\n",
       "      <td>NaN</td>\n",
       "    </tr>\n",
       "  </tbody>\n",
       "</table>\n",
       "</div>"
      ],
      "text/plain": [
       "            count unique         top freq        mean         std  min    25%  \\\n",
       "Date        20641    603  08-02-2019  183         NaN         NaN  NaN    NaN   \n",
       "Order_id  20641.0    NaN         NaN  NaN  575.986289  328.557078  1.0  292.0   \n",
       "Product     20641     37     poultry  640         NaN         NaN  NaN    NaN   \n",
       "\n",
       "            50%    75%     max  \n",
       "Date        NaN    NaN     NaN  \n",
       "Order_id  581.0  862.0  1139.0  \n",
       "Product     NaN    NaN     NaN  "
      ]
     },
     "execution_count": 7,
     "metadata": {},
     "output_type": "execute_result"
    }
   ],
   "source": [
    "ds.describe(include='all').T"
   ]
  },
  {
   "cell_type": "code",
   "execution_count": 8,
   "id": "a984dbb3",
   "metadata": {},
   "outputs": [
    {
     "name": "stdout",
     "output_type": "stream",
     "text": [
      "There are total of 4730 duplicate records in the dataset\n"
     ]
    }
   ],
   "source": [
    "dup=ds.duplicated().sum()\n",
    "print(\"There are total of {}\".format(dup), \"duplicate records in the dataset\")"
   ]
  },
  {
   "cell_type": "code",
   "execution_count": 9,
   "id": "c4e6a0d1",
   "metadata": {},
   "outputs": [
    {
     "name": "stdout",
     "output_type": "stream",
     "text": [
      "Number of duplicate rows = 4730\n"
     ]
    }
   ],
   "source": [
    "dups=ds.duplicated()\n",
    "print('Number of duplicate rows = %d' % (dups.sum()))"
   ]
  },
  {
   "cell_type": "code",
   "execution_count": 10,
   "id": "0db469d7",
   "metadata": {},
   "outputs": [],
   "source": [
    "ds = ds.drop_duplicates()"
   ]
  },
  {
   "cell_type": "code",
   "execution_count": 11,
   "id": "23f7087c",
   "metadata": {},
   "outputs": [
    {
     "name": "stdout",
     "output_type": "stream",
     "text": [
      "Number of duplicate rows = 0\n"
     ]
    }
   ],
   "source": [
    "dups=ds.duplicated()\n",
    "print('Number of duplicate rows = %d' % (dups.sum()))"
   ]
  },
  {
   "cell_type": "code",
   "execution_count": 12,
   "id": "c5377492",
   "metadata": {},
   "outputs": [],
   "source": [
    "ds['Product'] = ds['Product'].str.lower()"
   ]
  },
  {
   "cell_type": "code",
   "execution_count": 13,
   "id": "66d0814f",
   "metadata": {},
   "outputs": [
    {
     "data": {
      "text/html": [
       "<div>\n",
       "<style scoped>\n",
       "    .dataframe tbody tr th:only-of-type {\n",
       "        vertical-align: middle;\n",
       "    }\n",
       "\n",
       "    .dataframe tbody tr th {\n",
       "        vertical-align: top;\n",
       "    }\n",
       "\n",
       "    .dataframe thead th {\n",
       "        text-align: right;\n",
       "    }\n",
       "</style>\n",
       "<table border=\"1\" class=\"dataframe\">\n",
       "  <thead>\n",
       "    <tr style=\"text-align: right;\">\n",
       "      <th></th>\n",
       "      <th>Date</th>\n",
       "      <th>Order_id</th>\n",
       "      <th>Product</th>\n",
       "    </tr>\n",
       "  </thead>\n",
       "  <tbody>\n",
       "    <tr>\n",
       "      <th>0</th>\n",
       "      <td>01-01-2018</td>\n",
       "      <td>1</td>\n",
       "      <td>yogurt</td>\n",
       "    </tr>\n",
       "    <tr>\n",
       "      <th>1</th>\n",
       "      <td>01-01-2018</td>\n",
       "      <td>1</td>\n",
       "      <td>pork</td>\n",
       "    </tr>\n",
       "    <tr>\n",
       "      <th>2</th>\n",
       "      <td>01-01-2018</td>\n",
       "      <td>1</td>\n",
       "      <td>sandwich bags</td>\n",
       "    </tr>\n",
       "    <tr>\n",
       "      <th>3</th>\n",
       "      <td>01-01-2018</td>\n",
       "      <td>1</td>\n",
       "      <td>lunch meat</td>\n",
       "    </tr>\n",
       "    <tr>\n",
       "      <th>4</th>\n",
       "      <td>01-01-2018</td>\n",
       "      <td>1</td>\n",
       "      <td>all- purpose</td>\n",
       "    </tr>\n",
       "    <tr>\n",
       "      <th>...</th>\n",
       "      <td>...</td>\n",
       "      <td>...</td>\n",
       "      <td>...</td>\n",
       "    </tr>\n",
       "    <tr>\n",
       "      <th>20634</th>\n",
       "      <td>25-02-2020</td>\n",
       "      <td>1138</td>\n",
       "      <td>soda</td>\n",
       "    </tr>\n",
       "    <tr>\n",
       "      <th>20637</th>\n",
       "      <td>25-02-2020</td>\n",
       "      <td>1138</td>\n",
       "      <td>paper towels</td>\n",
       "    </tr>\n",
       "    <tr>\n",
       "      <th>20638</th>\n",
       "      <td>26-02-2020</td>\n",
       "      <td>1139</td>\n",
       "      <td>soda</td>\n",
       "    </tr>\n",
       "    <tr>\n",
       "      <th>20639</th>\n",
       "      <td>26-02-2020</td>\n",
       "      <td>1139</td>\n",
       "      <td>laundry detergent</td>\n",
       "    </tr>\n",
       "    <tr>\n",
       "      <th>20640</th>\n",
       "      <td>26-02-2020</td>\n",
       "      <td>1139</td>\n",
       "      <td>shampoo</td>\n",
       "    </tr>\n",
       "  </tbody>\n",
       "</table>\n",
       "<p>15911 rows × 3 columns</p>\n",
       "</div>"
      ],
      "text/plain": [
       "             Date  Order_id            Product\n",
       "0      01-01-2018         1             yogurt\n",
       "1      01-01-2018         1               pork\n",
       "2      01-01-2018         1      sandwich bags\n",
       "3      01-01-2018         1         lunch meat\n",
       "4      01-01-2018         1       all- purpose\n",
       "...           ...       ...                ...\n",
       "20634  25-02-2020      1138               soda\n",
       "20637  25-02-2020      1138       paper towels\n",
       "20638  26-02-2020      1139               soda\n",
       "20639  26-02-2020      1139  laundry detergent\n",
       "20640  26-02-2020      1139            shampoo\n",
       "\n",
       "[15911 rows x 3 columns]"
      ]
     },
     "execution_count": 13,
     "metadata": {},
     "output_type": "execute_result"
    }
   ],
   "source": [
    "ds"
   ]
  },
  {
   "cell_type": "code",
   "execution_count": 14,
   "id": "20e53786",
   "metadata": {},
   "outputs": [],
   "source": [
    "ds = ds.drop(ds[ds.Product == 'none'].index)"
   ]
  },
  {
   "cell_type": "code",
   "execution_count": 15,
   "id": "7cb5e8ed",
   "metadata": {},
   "outputs": [
    {
     "data": {
      "text/html": [
       "<div>\n",
       "<style scoped>\n",
       "    .dataframe tbody tr th:only-of-type {\n",
       "        vertical-align: middle;\n",
       "    }\n",
       "\n",
       "    .dataframe tbody tr th {\n",
       "        vertical-align: top;\n",
       "    }\n",
       "\n",
       "    .dataframe thead th {\n",
       "        text-align: right;\n",
       "    }\n",
       "</style>\n",
       "<table border=\"1\" class=\"dataframe\">\n",
       "  <thead>\n",
       "    <tr style=\"text-align: right;\">\n",
       "      <th></th>\n",
       "      <th>Date</th>\n",
       "      <th>Order_id</th>\n",
       "      <th>Product</th>\n",
       "    </tr>\n",
       "  </thead>\n",
       "  <tbody>\n",
       "    <tr>\n",
       "      <th>0</th>\n",
       "      <td>01-01-2018</td>\n",
       "      <td>1</td>\n",
       "      <td>yogurt</td>\n",
       "    </tr>\n",
       "    <tr>\n",
       "      <th>1</th>\n",
       "      <td>01-01-2018</td>\n",
       "      <td>1</td>\n",
       "      <td>pork</td>\n",
       "    </tr>\n",
       "    <tr>\n",
       "      <th>2</th>\n",
       "      <td>01-01-2018</td>\n",
       "      <td>1</td>\n",
       "      <td>sandwich bags</td>\n",
       "    </tr>\n",
       "    <tr>\n",
       "      <th>3</th>\n",
       "      <td>01-01-2018</td>\n",
       "      <td>1</td>\n",
       "      <td>lunch meat</td>\n",
       "    </tr>\n",
       "    <tr>\n",
       "      <th>4</th>\n",
       "      <td>01-01-2018</td>\n",
       "      <td>1</td>\n",
       "      <td>all- purpose</td>\n",
       "    </tr>\n",
       "  </tbody>\n",
       "</table>\n",
       "</div>"
      ],
      "text/plain": [
       "         Date  Order_id        Product\n",
       "0  01-01-2018         1         yogurt\n",
       "1  01-01-2018         1           pork\n",
       "2  01-01-2018         1  sandwich bags\n",
       "3  01-01-2018         1     lunch meat\n",
       "4  01-01-2018         1   all- purpose"
      ]
     },
     "execution_count": 15,
     "metadata": {},
     "output_type": "execute_result"
    }
   ],
   "source": [
    "ds.head()"
   ]
  },
  {
   "cell_type": "code",
   "execution_count": 16,
   "id": "4be6fcf7",
   "metadata": {},
   "outputs": [
    {
     "data": {
      "text/plain": [
       "Date         603\n",
       "Order_id    1139\n",
       "Product       37\n",
       "dtype: int64"
      ]
     },
     "execution_count": 16,
     "metadata": {},
     "output_type": "execute_result"
    }
   ],
   "source": [
    "ds.nunique()"
   ]
  },
  {
   "cell_type": "code",
   "execution_count": 17,
   "id": "33638316",
   "metadata": {},
   "outputs": [
    {
     "data": {
      "text/plain": [
       "Product    37\n",
       "dtype: int64"
      ]
     },
     "execution_count": 17,
     "metadata": {},
     "output_type": "execute_result"
    }
   ],
   "source": [
    "ds[['Product']].nunique()"
   ]
  },
  {
   "cell_type": "code",
   "execution_count": 18,
   "id": "1e6dec28",
   "metadata": {},
   "outputs": [
    {
     "name": "stdout",
     "output_type": "stream",
     "text": [
      "PRODUCT :  37\n",
      "hand soap                       394\n",
      "sandwich loaves                 398\n",
      "flour                           402\n",
      "pork                            405\n",
      "sugar                           411\n",
      "paper towels                    413\n",
      "butter                          419\n",
      "sandwich bags                   419\n",
      "shampoo                         420\n",
      "tortillas                       421\n",
      "fruits                          422\n",
      "ketchup                         423\n",
      "pasta                           423\n",
      "spaghetti sauce                 425\n",
      "beef                            427\n",
      "all- purpose                    427\n",
      "mixes                           428\n",
      "individual meals                428\n",
      "juice                           429\n",
      "laundry detergent               431\n",
      "toilet paper                    431\n",
      "soap                            432\n",
      "coffee/tea                      432\n",
      "milk                            433\n",
      "aluminum foil                   438\n",
      "yogurt                          438\n",
      "bagels                          439\n",
      "dishwashing liquid/detergent    442\n",
      "dinner rolls                    443\n",
      "eggs                            444\n",
      "cheeses                         445\n",
      "soda                            445\n",
      "waffles                         449\n",
      "lunch meat                      450\n",
      "cereals                         451\n",
      "ice cream                       454\n",
      "poultry                         480\n",
      "Name: Product, dtype: int64\n",
      "\n",
      "\n"
     ]
    }
   ],
   "source": [
    "for column in ds[['Product']]:\n",
    "    print(column.upper(),': ',ds[column].nunique())\n",
    "    print(ds[column].value_counts().sort_values())\n",
    "    print('\\n')"
   ]
  },
  {
   "cell_type": "code",
   "execution_count": 19,
   "id": "1e878d0c",
   "metadata": {},
   "outputs": [
    {
     "data": {
      "text/plain": [
       "array(['yogurt', 'pork', 'sandwich bags', 'lunch meat', 'all- purpose',\n",
       "       'flour', 'soda', 'butter', 'beef', 'aluminum foil', 'dinner rolls',\n",
       "       'shampoo', 'mixes', 'soap', 'laundry detergent', 'ice cream',\n",
       "       'toilet paper', 'hand soap', 'waffles', 'cheeses', 'milk',\n",
       "       'dishwashing liquid/detergent', 'individual meals', 'cereals',\n",
       "       'tortillas', 'spaghetti sauce', 'ketchup', 'sandwich loaves',\n",
       "       'poultry', 'bagels', 'eggs', 'juice', 'pasta', 'paper towels',\n",
       "       'coffee/tea', 'fruits', 'sugar'], dtype=object)"
      ]
     },
     "execution_count": 19,
     "metadata": {},
     "output_type": "execute_result"
    }
   ],
   "source": [
    "ds.Product.unique()"
   ]
  },
  {
   "cell_type": "code",
   "execution_count": 20,
   "id": "23d1b424",
   "metadata": {},
   "outputs": [
    {
     "data": {
      "text/plain": [
       "Date        object\n",
       "Order_id     int64\n",
       "Product     object\n",
       "dtype: object"
      ]
     },
     "execution_count": 20,
     "metadata": {},
     "output_type": "execute_result"
    }
   ],
   "source": [
    "ds.dtypes"
   ]
  },
  {
   "cell_type": "code",
   "execution_count": 21,
   "id": "c5c77eac",
   "metadata": {},
   "outputs": [
    {
     "data": {
      "text/plain": [
       "Order_id   -0.023884\n",
       "dtype: float64"
      ]
     },
     "execution_count": 21,
     "metadata": {},
     "output_type": "execute_result"
    }
   ],
   "source": [
    "ds.skew(axis=0,skipna=True)"
   ]
  },
  {
   "cell_type": "code",
   "execution_count": 22,
   "id": "d2a58118",
   "metadata": {},
   "outputs": [
    {
     "data": {
      "text/plain": [
       "Order_id   -1.186942\n",
       "dtype: float64"
      ]
     },
     "execution_count": 22,
     "metadata": {},
     "output_type": "execute_result"
    }
   ],
   "source": [
    "ds.kurtosis(axis=0,skipna=True)"
   ]
  },
  {
   "cell_type": "code",
   "execution_count": 23,
   "id": "d79d0fcc",
   "metadata": {},
   "outputs": [
    {
     "data": {
      "text/plain": [
       "Date        0\n",
       "Order_id    0\n",
       "Product     0\n",
       "dtype: int64"
      ]
     },
     "execution_count": 23,
     "metadata": {},
     "output_type": "execute_result"
    }
   ],
   "source": [
    "for column in ds.columns:\n",
    "    if ds[column].dtype !='object':\n",
    "        median=ds[column].median()\n",
    "        ds[column]=ds[column].fillna(median)\n",
    "ds.isnull().sum()  "
   ]
  },
  {
   "cell_type": "markdown",
   "id": "7b848b5a",
   "metadata": {},
   "source": [
    "# 2. Exploratory Analysis and Inferences"
   ]
  },
  {
   "cell_type": "code",
   "execution_count": 24,
   "id": "689b63a5",
   "metadata": {},
   "outputs": [],
   "source": [
    "def detect_outlier(col):\n",
    "    sorted(col)\n",
    "    Q1,Q3=np.percentile(col,[25,75])\n",
    "    IQR=Q3-Q1\n",
    "    lower_range= Q1-(1.5 * IQR)\n",
    "    upper_range= Q3+(1.5 * IQR)\n",
    "    return lower_range, upper_range"
   ]
  },
  {
   "cell_type": "code",
   "execution_count": 25,
   "id": "f990ea0d",
   "metadata": {},
   "outputs": [
    {
     "name": "stdout",
     "output_type": "stream",
     "text": [
      "lower range -564.75 upper range 1713.25\n"
     ]
    }
   ],
   "source": [
    "lr1,ur1=detect_outlier(ds['Order_id'])\n",
    "print(\"lower range\",lr1,\"upper range\",ur1)"
   ]
  },
  {
   "cell_type": "code",
   "execution_count": 26,
   "id": "0b1c8bf9",
   "metadata": {},
   "outputs": [],
   "source": [
    "num = ds.select_dtypes(include=['int','float']).columns"
   ]
  },
  {
   "cell_type": "code",
   "execution_count": 27,
   "id": "b040eea1",
   "metadata": {},
   "outputs": [],
   "source": [
    "def proportion(x):\n",
    "        xs = pd.Series(sorted(ds[x]))\n",
    "        Q3 = xs.quantile(q=0.75)\n",
    "        Q1 = xs.quantile(q=0.25)\n",
    "        IQR = Q3-Q1\n",
    "        LR = Q1-(1.5*IQR)\n",
    "        UR = Q3+(1.5*IQR)\n",
    "        \n",
    "        data = ds[x]\n",
    "        count = 0\n",
    "        for value in data:\n",
    "            if (value<LR) or (value>UR):\n",
    "                count += 1\n",
    "            else:\n",
    "                pass\n",
    "\n",
    "        _proportion = round((count/len(ds[x]))*100,2)\n",
    "        print('Outlier proportion: {}: {}%'.format(x, _proportion))"
   ]
  },
  {
   "cell_type": "code",
   "execution_count": 28,
   "id": "72b18379",
   "metadata": {},
   "outputs": [
    {
     "name": "stdout",
     "output_type": "stream",
     "text": [
      "Outlier proportion: Order_id: 0.0%\n"
     ]
    }
   ],
   "source": [
    "for i in num:\n",
    "    proportion(i)"
   ]
  },
  {
   "cell_type": "code",
   "execution_count": 29,
   "id": "827c770e",
   "metadata": {},
   "outputs": [
    {
     "data": {
      "text/html": [
       "<div>\n",
       "<style scoped>\n",
       "    .dataframe tbody tr th:only-of-type {\n",
       "        vertical-align: middle;\n",
       "    }\n",
       "\n",
       "    .dataframe tbody tr th {\n",
       "        vertical-align: top;\n",
       "    }\n",
       "\n",
       "    .dataframe thead th {\n",
       "        text-align: right;\n",
       "    }\n",
       "</style>\n",
       "<table border=\"1\" class=\"dataframe\">\n",
       "  <thead>\n",
       "    <tr style=\"text-align: right;\">\n",
       "      <th></th>\n",
       "      <th>Order_id</th>\n",
       "    </tr>\n",
       "  </thead>\n",
       "  <tbody>\n",
       "    <tr>\n",
       "      <th>Order_id</th>\n",
       "      <td>1.0</td>\n",
       "    </tr>\n",
       "  </tbody>\n",
       "</table>\n",
       "</div>"
      ],
      "text/plain": [
       "          Order_id\n",
       "Order_id       1.0"
      ]
     },
     "execution_count": 29,
     "metadata": {},
     "output_type": "execute_result"
    }
   ],
   "source": [
    "corr1=ds.corr()\n",
    "round(corr1,2)"
   ]
  },
  {
   "cell_type": "code",
   "execution_count": 30,
   "id": "67ceff3d",
   "metadata": {},
   "outputs": [
    {
     "data": {
      "text/plain": [
       "Text(0.5, 1.0, 'Box plot of Data')"
      ]
     },
     "execution_count": 30,
     "metadata": {},
     "output_type": "execute_result"
    },
    {
     "data": {
      "image/png": "[encoded data removed]",
      "text/plain": [
       "<Figure size 936x576 with 1 Axes>"
      ]
     },
     "metadata": {
      "needs_background": "light"
     },
     "output_type": "display_data"
    }
   ],
   "source": [
    "plt.figure(figsize=(13,8))\n",
    "sns.boxplot(data=ds,orient=\"h\", palette=\"Set3\")\n",
    "plt.ylabel(\"Frequency\")\n",
    "plt.title(\"Box plot of Data\")"
   ]
  },
  {
   "cell_type": "code",
   "execution_count": 31,
   "id": "0a77186d",
   "metadata": {
    "scrolled": false
   },
   "outputs": [
    {
     "name": "stdout",
     "output_type": "stream",
     "text": [
      "DATE :  603\n",
      "26-02-2020      3\n",
      "24-09-2018      3\n",
      "04-04-2018      4\n",
      "11-03-2019      4\n",
      "05-09-2019      4\n",
      "             ... \n",
      "01-03-2018     91\n",
      "17-05-2018     92\n",
      "06-03-2018     99\n",
      "20-02-2019    106\n",
      "08-02-2019    138\n",
      "Name: Date, Length: 603, dtype: int64\n",
      "\n",
      "\n",
      "PRODUCT :  37\n",
      "hand soap                       394\n",
      "sandwich loaves                 398\n",
      "flour                           402\n",
      "pork                            405\n",
      "sugar                           411\n",
      "paper towels                    413\n",
      "butter                          419\n",
      "sandwich bags                   419\n",
      "shampoo                         420\n",
      "tortillas                       421\n",
      "fruits                          422\n",
      "ketchup                         423\n",
      "pasta                           423\n",
      "spaghetti sauce                 425\n",
      "beef                            427\n",
      "all- purpose                    427\n",
      "mixes                           428\n",
      "individual meals                428\n",
      "juice                           429\n",
      "laundry detergent               431\n",
      "toilet paper                    431\n",
      "soap                            432\n",
      "coffee/tea                      432\n",
      "milk                            433\n",
      "aluminum foil                   438\n",
      "yogurt                          438\n",
      "bagels                          439\n",
      "dishwashing liquid/detergent    442\n",
      "dinner rolls                    443\n",
      "eggs                            444\n",
      "cheeses                         445\n",
      "soda                            445\n",
      "waffles                         449\n",
      "lunch meat                      450\n",
      "cereals                         451\n",
      "ice cream                       454\n",
      "poultry                         480\n",
      "Name: Product, dtype: int64\n",
      "\n",
      "\n"
     ]
    }
   ],
   "source": [
    "for column in ds.columns:\n",
    "    if ds[column].dtype=='object':\n",
    "        print(column.upper(),': ',ds[column].nunique())\n",
    "        print(ds[column].value_counts().sort_values())\n",
    "        print('\\n')"
   ]
  },
  {
   "cell_type": "code",
   "execution_count": 32,
   "id": "a036a692",
   "metadata": {
    "scrolled": false
   },
   "outputs": [
    {
     "data": {
      "image/png": "[encoded data removed]",
      "text/plain": [
       "<Figure size 864x504 with 1 Axes>"
      ]
     },
     "metadata": {
      "needs_background": "light"
     },
     "output_type": "display_data"
    }
   ],
   "source": [
    "ds['Product'].value_counts().sort_values(ascending=False).head(20).plot(kind='bar',figsize=(12,7));"
   ]
  },
  {
   "cell_type": "markdown",
   "id": "a74e3ce0",
   "metadata": {},
   "source": [
    "# 3. Market Basket Analysis"
   ]
  },
  {
   "cell_type": "code",
   "execution_count": 33,
   "id": "4179a477",
   "metadata": {},
   "outputs": [],
   "source": [
    "basket=ds.groupby(['Order_id', 'Product'])['Product'].count().unstack().reset_index().fillna(0).set_index('Order_id')"
   ]
  },
  {
   "cell_type": "code",
   "execution_count": 34,
   "id": "86e988f3",
   "metadata": {},
   "outputs": [
    {
     "data": {
      "text/html": [
       "<div>\n",
       "<style scoped>\n",
       "    .dataframe tbody tr th:only-of-type {\n",
       "        vertical-align: middle;\n",
       "    }\n",
       "\n",
       "    .dataframe tbody tr th {\n",
       "        vertical-align: top;\n",
       "    }\n",
       "\n",
       "    .dataframe thead th {\n",
       "        text-align: right;\n",
       "    }\n",
       "</style>\n",
       "<table border=\"1\" class=\"dataframe\">\n",
       "  <thead>\n",
       "    <tr style=\"text-align: right;\">\n",
       "      <th>Product</th>\n",
       "      <th>all- purpose</th>\n",
       "      <th>aluminum foil</th>\n",
       "      <th>bagels</th>\n",
       "      <th>beef</th>\n",
       "      <th>butter</th>\n",
       "      <th>cereals</th>\n",
       "      <th>cheeses</th>\n",
       "      <th>coffee/tea</th>\n",
       "      <th>dinner rolls</th>\n",
       "      <th>dishwashing liquid/detergent</th>\n",
       "      <th>...</th>\n",
       "      <th>sandwich loaves</th>\n",
       "      <th>shampoo</th>\n",
       "      <th>soap</th>\n",
       "      <th>soda</th>\n",
       "      <th>spaghetti sauce</th>\n",
       "      <th>sugar</th>\n",
       "      <th>toilet paper</th>\n",
       "      <th>tortillas</th>\n",
       "      <th>waffles</th>\n",
       "      <th>yogurt</th>\n",
       "    </tr>\n",
       "    <tr>\n",
       "      <th>Order_id</th>\n",
       "      <th></th>\n",
       "      <th></th>\n",
       "      <th></th>\n",
       "      <th></th>\n",
       "      <th></th>\n",
       "      <th></th>\n",
       "      <th></th>\n",
       "      <th></th>\n",
       "      <th></th>\n",
       "      <th></th>\n",
       "      <th></th>\n",
       "      <th></th>\n",
       "      <th></th>\n",
       "      <th></th>\n",
       "      <th></th>\n",
       "      <th></th>\n",
       "      <th></th>\n",
       "      <th></th>\n",
       "      <th></th>\n",
       "      <th></th>\n",
       "      <th></th>\n",
       "    </tr>\n",
       "  </thead>\n",
       "  <tbody>\n",
       "    <tr>\n",
       "      <th>1</th>\n",
       "      <td>1.0</td>\n",
       "      <td>1.0</td>\n",
       "      <td>0.0</td>\n",
       "      <td>1.0</td>\n",
       "      <td>1.0</td>\n",
       "      <td>0.0</td>\n",
       "      <td>0.0</td>\n",
       "      <td>0.0</td>\n",
       "      <td>1.0</td>\n",
       "      <td>0.0</td>\n",
       "      <td>...</td>\n",
       "      <td>0.0</td>\n",
       "      <td>1.0</td>\n",
       "      <td>1.0</td>\n",
       "      <td>1.0</td>\n",
       "      <td>0.0</td>\n",
       "      <td>0.0</td>\n",
       "      <td>0.0</td>\n",
       "      <td>0.0</td>\n",
       "      <td>0.0</td>\n",
       "      <td>1.0</td>\n",
       "    </tr>\n",
       "    <tr>\n",
       "      <th>2</th>\n",
       "      <td>0.0</td>\n",
       "      <td>1.0</td>\n",
       "      <td>0.0</td>\n",
       "      <td>0.0</td>\n",
       "      <td>0.0</td>\n",
       "      <td>1.0</td>\n",
       "      <td>1.0</td>\n",
       "      <td>0.0</td>\n",
       "      <td>0.0</td>\n",
       "      <td>1.0</td>\n",
       "      <td>...</td>\n",
       "      <td>0.0</td>\n",
       "      <td>1.0</td>\n",
       "      <td>0.0</td>\n",
       "      <td>0.0</td>\n",
       "      <td>0.0</td>\n",
       "      <td>0.0</td>\n",
       "      <td>1.0</td>\n",
       "      <td>1.0</td>\n",
       "      <td>1.0</td>\n",
       "      <td>1.0</td>\n",
       "    </tr>\n",
       "    <tr>\n",
       "      <th>3</th>\n",
       "      <td>0.0</td>\n",
       "      <td>0.0</td>\n",
       "      <td>1.0</td>\n",
       "      <td>0.0</td>\n",
       "      <td>0.0</td>\n",
       "      <td>1.0</td>\n",
       "      <td>1.0</td>\n",
       "      <td>0.0</td>\n",
       "      <td>1.0</td>\n",
       "      <td>0.0</td>\n",
       "      <td>...</td>\n",
       "      <td>1.0</td>\n",
       "      <td>1.0</td>\n",
       "      <td>1.0</td>\n",
       "      <td>1.0</td>\n",
       "      <td>1.0</td>\n",
       "      <td>0.0</td>\n",
       "      <td>1.0</td>\n",
       "      <td>0.0</td>\n",
       "      <td>0.0</td>\n",
       "      <td>0.0</td>\n",
       "    </tr>\n",
       "    <tr>\n",
       "      <th>4</th>\n",
       "      <td>1.0</td>\n",
       "      <td>0.0</td>\n",
       "      <td>0.0</td>\n",
       "      <td>0.0</td>\n",
       "      <td>0.0</td>\n",
       "      <td>1.0</td>\n",
       "      <td>0.0</td>\n",
       "      <td>0.0</td>\n",
       "      <td>0.0</td>\n",
       "      <td>0.0</td>\n",
       "      <td>...</td>\n",
       "      <td>0.0</td>\n",
       "      <td>0.0</td>\n",
       "      <td>0.0</td>\n",
       "      <td>1.0</td>\n",
       "      <td>0.0</td>\n",
       "      <td>0.0</td>\n",
       "      <td>1.0</td>\n",
       "      <td>0.0</td>\n",
       "      <td>0.0</td>\n",
       "      <td>0.0</td>\n",
       "    </tr>\n",
       "    <tr>\n",
       "      <th>5</th>\n",
       "      <td>1.0</td>\n",
       "      <td>0.0</td>\n",
       "      <td>0.0</td>\n",
       "      <td>0.0</td>\n",
       "      <td>0.0</td>\n",
       "      <td>0.0</td>\n",
       "      <td>0.0</td>\n",
       "      <td>0.0</td>\n",
       "      <td>1.0</td>\n",
       "      <td>0.0</td>\n",
       "      <td>...</td>\n",
       "      <td>1.0</td>\n",
       "      <td>0.0</td>\n",
       "      <td>0.0</td>\n",
       "      <td>1.0</td>\n",
       "      <td>1.0</td>\n",
       "      <td>0.0</td>\n",
       "      <td>1.0</td>\n",
       "      <td>1.0</td>\n",
       "      <td>1.0</td>\n",
       "      <td>1.0</td>\n",
       "    </tr>\n",
       "  </tbody>\n",
       "</table>\n",
       "<p>5 rows × 37 columns</p>\n",
       "</div>"
      ],
      "text/plain": [
       "Product   all- purpose  aluminum foil  bagels  beef  butter  cereals  cheeses  \\\n",
       "Order_id                                                                        \n",
       "1                  1.0            1.0     0.0   1.0     1.0      0.0      0.0   \n",
       "2                  0.0            1.0     0.0   0.0     0.0      1.0      1.0   \n",
       "3                  0.0            0.0     1.0   0.0     0.0      1.0      1.0   \n",
       "4                  1.0            0.0     0.0   0.0     0.0      1.0      0.0   \n",
       "5                  1.0            0.0     0.0   0.0     0.0      0.0      0.0   \n",
       "\n",
       "Product   coffee/tea  dinner rolls  dishwashing liquid/detergent  ...  \\\n",
       "Order_id                                                          ...   \n",
       "1                0.0           1.0                           0.0  ...   \n",
       "2                0.0           0.0                           1.0  ...   \n",
       "3                0.0           1.0                           0.0  ...   \n",
       "4                0.0           0.0                           0.0  ...   \n",
       "5                0.0           1.0                           0.0  ...   \n",
       "\n",
       "Product   sandwich loaves  shampoo  soap  soda  spaghetti sauce  sugar  \\\n",
       "Order_id                                                                 \n",
       "1                     0.0      1.0   1.0   1.0              0.0    0.0   \n",
       "2                     0.0      1.0   0.0   0.0              0.0    0.0   \n",
       "3                     1.0      1.0   1.0   1.0              1.0    0.0   \n",
       "4                     0.0      0.0   0.0   1.0              0.0    0.0   \n",
       "5                     1.0      0.0   0.0   1.0              1.0    0.0   \n",
       "\n",
       "Product   toilet paper  tortillas  waffles  yogurt  \n",
       "Order_id                                            \n",
       "1                  0.0        0.0      0.0     1.0  \n",
       "2                  1.0        1.0      1.0     1.0  \n",
       "3                  1.0        0.0      0.0     0.0  \n",
       "4                  1.0        0.0      0.0     0.0  \n",
       "5                  1.0        1.0      1.0     1.0  \n",
       "\n",
       "[5 rows x 37 columns]"
      ]
     },
     "execution_count": 34,
     "metadata": {},
     "output_type": "execute_result"
    }
   ],
   "source": [
    "basket.head()"
   ]
  },
  {
   "cell_type": "code",
   "execution_count": 35,
   "id": "383de388",
   "metadata": {},
   "outputs": [],
   "source": [
    "def encode_zero_one(x):\n",
    "    if x <= 0:\n",
    "        return 0\n",
    "    if x >= 1:\n",
    "        return 1"
   ]
  },
  {
   "cell_type": "code",
   "execution_count": 36,
   "id": "0d3b4ea8",
   "metadata": {},
   "outputs": [],
   "source": [
    "basket=basket.applymap(encode_zero_one)"
   ]
  },
  {
   "cell_type": "code",
   "execution_count": 37,
   "id": "60b81bd5",
   "metadata": {},
   "outputs": [
    {
     "data": {
      "text/html": [
       "<div>\n",
       "<style scoped>\n",
       "    .dataframe tbody tr th:only-of-type {\n",
       "        vertical-align: middle;\n",
       "    }\n",
       "\n",
       "    .dataframe tbody tr th {\n",
       "        vertical-align: top;\n",
       "    }\n",
       "\n",
       "    .dataframe thead th {\n",
       "        text-align: right;\n",
       "    }\n",
       "</style>\n",
       "<table border=\"1\" class=\"dataframe\">\n",
       "  <thead>\n",
       "    <tr style=\"text-align: right;\">\n",
       "      <th></th>\n",
       "      <th>support</th>\n",
       "      <th>itemsets</th>\n",
       "    </tr>\n",
       "  </thead>\n",
       "  <tbody>\n",
       "    <tr>\n",
       "      <th>0</th>\n",
       "      <td>0.374890</td>\n",
       "      <td>(all- purpose)</td>\n",
       "    </tr>\n",
       "    <tr>\n",
       "      <th>1</th>\n",
       "      <td>0.384548</td>\n",
       "      <td>(aluminum foil)</td>\n",
       "    </tr>\n",
       "    <tr>\n",
       "      <th>2</th>\n",
       "      <td>0.385426</td>\n",
       "      <td>(bagels)</td>\n",
       "    </tr>\n",
       "    <tr>\n",
       "      <th>3</th>\n",
       "      <td>0.374890</td>\n",
       "      <td>(beef)</td>\n",
       "    </tr>\n",
       "    <tr>\n",
       "      <th>4</th>\n",
       "      <td>0.367867</td>\n",
       "      <td>(butter)</td>\n",
       "    </tr>\n",
       "    <tr>\n",
       "      <th>...</th>\n",
       "      <td>...</td>\n",
       "      <td>...</td>\n",
       "    </tr>\n",
       "    <tr>\n",
       "      <th>610567</th>\n",
       "      <td>0.010536</td>\n",
       "      <td>(soap, spaghetti sauce, ketchup, sandwich bags...</td>\n",
       "    </tr>\n",
       "    <tr>\n",
       "      <th>610568</th>\n",
       "      <td>0.011414</td>\n",
       "      <td>(soap, waffles, spaghetti sauce, ketchup, sand...</td>\n",
       "    </tr>\n",
       "    <tr>\n",
       "      <th>610569</th>\n",
       "      <td>0.010536</td>\n",
       "      <td>(soap, shampoo, sandwich loaves, lunch meat, l...</td>\n",
       "    </tr>\n",
       "    <tr>\n",
       "      <th>610570</th>\n",
       "      <td>0.011414</td>\n",
       "      <td>(yogurt, shampoo, sandwich bags, lunch meat, m...</td>\n",
       "    </tr>\n",
       "    <tr>\n",
       "      <th>610571</th>\n",
       "      <td>0.010536</td>\n",
       "      <td>(milk, yogurt, shampoo, sandwich bags, lunch m...</td>\n",
       "    </tr>\n",
       "  </tbody>\n",
       "</table>\n",
       "<p>610572 rows × 2 columns</p>\n",
       "</div>"
      ],
      "text/plain": [
       "         support                                           itemsets\n",
       "0       0.374890                                     (all- purpose)\n",
       "1       0.384548                                    (aluminum foil)\n",
       "2       0.385426                                           (bagels)\n",
       "3       0.374890                                             (beef)\n",
       "4       0.367867                                           (butter)\n",
       "...          ...                                                ...\n",
       "610567  0.010536  (soap, spaghetti sauce, ketchup, sandwich bags...\n",
       "610568  0.011414  (soap, waffles, spaghetti sauce, ketchup, sand...\n",
       "610569  0.010536  (soap, shampoo, sandwich loaves, lunch meat, l...\n",
       "610570  0.011414  (yogurt, shampoo, sandwich bags, lunch meat, m...\n",
       "610571  0.010536  (milk, yogurt, shampoo, sandwich bags, lunch m...\n",
       "\n",
       "[610572 rows x 2 columns]"
      ]
     },
     "execution_count": 37,
     "metadata": {},
     "output_type": "execute_result"
    }
   ],
   "source": [
    "itemsets = apriori(basket, min_support = 0.01, use_colnames = True, low_memory=True)\n",
    "itemsets"
   ]
  },
  {
   "cell_type": "code",
   "execution_count": 38,
   "id": "e35c0d51",
   "metadata": {},
   "outputs": [
    {
     "data": {
      "image/png": "[encoded data removed]",
      "text/plain": [
       "<Figure size 864x720 with 1 Axes>"
      ]
     },
     "metadata": {
      "needs_background": "light"
     },
     "output_type": "display_data"
    }
   ],
   "source": [
    "plt.figure(figsize=(12,10))\n",
    "sns.barplot(itemsets.sort_values('support',ascending=False).iloc[0:20,1],\n",
    "            itemsets.sort_values('support',ascending=False).iloc[0:20,0])\n",
    "plt.xticks(rotation=90)\n",
    "plt.show()"
   ]
  },
  {
   "cell_type": "code",
   "execution_count": 39,
   "id": "75a6dac1",
   "metadata": {},
   "outputs": [],
   "source": [
    "basket = association_rules(itemsets, metric =\"lift\")\n",
    "basket = basket.sort_values(['lift','confidence'], ascending =[False, False])"
   ]
  },
  {
   "cell_type": "code",
   "execution_count": 40,
   "id": "7ef346cc",
   "metadata": {},
   "outputs": [
    {
     "data": {
      "text/html": [
       "<div>\n",
       "<style scoped>\n",
       "    .dataframe tbody tr th:only-of-type {\n",
       "        vertical-align: middle;\n",
       "    }\n",
       "\n",
       "    .dataframe tbody tr th {\n",
       "        vertical-align: top;\n",
       "    }\n",
       "\n",
       "    .dataframe thead th {\n",
       "        text-align: right;\n",
       "    }\n",
       "</style>\n",
       "<table border=\"1\" class=\"dataframe\">\n",
       "  <thead>\n",
       "    <tr style=\"text-align: right;\">\n",
       "      <th></th>\n",
       "      <th>antecedents</th>\n",
       "      <th>consequents</th>\n",
       "      <th>antecedent support</th>\n",
       "      <th>consequent support</th>\n",
       "      <th>support</th>\n",
       "      <th>confidence</th>\n",
       "      <th>lift</th>\n",
       "      <th>leverage</th>\n",
       "      <th>conviction</th>\n",
       "    </tr>\n",
       "  </thead>\n",
       "  <tbody>\n",
       "    <tr>\n",
       "      <th>21916487</th>\n",
       "      <td>(sugar, ketchup, sandwich bags, all- purpose)</td>\n",
       "      <td>(soap, flour, laundry detergent)</td>\n",
       "      <td>0.023705</td>\n",
       "      <td>0.058824</td>\n",
       "      <td>0.011414</td>\n",
       "      <td>0.481481</td>\n",
       "      <td>8.185185</td>\n",
       "      <td>0.010019</td>\n",
       "      <td>1.815126</td>\n",
       "    </tr>\n",
       "    <tr>\n",
       "      <th>21916494</th>\n",
       "      <td>(soap, flour, laundry detergent)</td>\n",
       "      <td>(sugar, ketchup, sandwich bags, all- purpose)</td>\n",
       "      <td>0.058824</td>\n",
       "      <td>0.023705</td>\n",
       "      <td>0.011414</td>\n",
       "      <td>0.194030</td>\n",
       "      <td>8.185185</td>\n",
       "      <td>0.010019</td>\n",
       "      <td>1.211329</td>\n",
       "    </tr>\n",
       "    <tr>\n",
       "      <th>21907032</th>\n",
       "      <td>(fruits, coffee/tea, all- purpose, toilet paper)</td>\n",
       "      <td>(beef, cereals, butter)</td>\n",
       "      <td>0.022827</td>\n",
       "      <td>0.058824</td>\n",
       "      <td>0.010536</td>\n",
       "      <td>0.461538</td>\n",
       "      <td>7.846154</td>\n",
       "      <td>0.009193</td>\n",
       "      <td>1.747899</td>\n",
       "    </tr>\n",
       "    <tr>\n",
       "      <th>21907049</th>\n",
       "      <td>(beef, cereals, butter)</td>\n",
       "      <td>(fruits, coffee/tea, all- purpose, toilet paper)</td>\n",
       "      <td>0.058824</td>\n",
       "      <td>0.022827</td>\n",
       "      <td>0.010536</td>\n",
       "      <td>0.179104</td>\n",
       "      <td>7.846154</td>\n",
       "      <td>0.009193</td>\n",
       "      <td>1.190374</td>\n",
       "    </tr>\n",
       "    <tr>\n",
       "      <th>22026356</th>\n",
       "      <td>(individual meals, milk, ice cream, pork)</td>\n",
       "      <td>(shampoo, sandwich loaves, cereals)</td>\n",
       "      <td>0.020193</td>\n",
       "      <td>0.067603</td>\n",
       "      <td>0.010536</td>\n",
       "      <td>0.521739</td>\n",
       "      <td>7.717674</td>\n",
       "      <td>0.009170</td>\n",
       "      <td>1.949557</td>\n",
       "    </tr>\n",
       "    <tr>\n",
       "      <th>22026369</th>\n",
       "      <td>(shampoo, sandwich loaves, cereals)</td>\n",
       "      <td>(individual meals, milk, ice cream, pork)</td>\n",
       "      <td>0.067603</td>\n",
       "      <td>0.020193</td>\n",
       "      <td>0.010536</td>\n",
       "      <td>0.155844</td>\n",
       "      <td>7.717674</td>\n",
       "      <td>0.009170</td>\n",
       "      <td>1.160694</td>\n",
       "    </tr>\n",
       "    <tr>\n",
       "      <th>22029884</th>\n",
       "      <td>(ketchup, milk, lunch meat, cheeses)</td>\n",
       "      <td>(soap, coffee/tea, pork)</td>\n",
       "      <td>0.022827</td>\n",
       "      <td>0.065847</td>\n",
       "      <td>0.011414</td>\n",
       "      <td>0.500000</td>\n",
       "      <td>7.593333</td>\n",
       "      <td>0.009910</td>\n",
       "      <td>1.868306</td>\n",
       "    </tr>\n",
       "    <tr>\n",
       "      <th>22029897</th>\n",
       "      <td>(soap, coffee/tea, pork)</td>\n",
       "      <td>(ketchup, milk, lunch meat, cheeses)</td>\n",
       "      <td>0.065847</td>\n",
       "      <td>0.022827</td>\n",
       "      <td>0.011414</td>\n",
       "      <td>0.173333</td>\n",
       "      <td>7.593333</td>\n",
       "      <td>0.009910</td>\n",
       "      <td>1.182064</td>\n",
       "    </tr>\n",
       "    <tr>\n",
       "      <th>21916488</th>\n",
       "      <td>(sugar, ketchup, all- purpose, laundry detergent)</td>\n",
       "      <td>(soap, flour, sandwich bags)</td>\n",
       "      <td>0.025461</td>\n",
       "      <td>0.059701</td>\n",
       "      <td>0.011414</td>\n",
       "      <td>0.448276</td>\n",
       "      <td>7.508621</td>\n",
       "      <td>0.009893</td>\n",
       "      <td>1.704291</td>\n",
       "    </tr>\n",
       "    <tr>\n",
       "      <th>21916493</th>\n",
       "      <td>(soap, flour, sandwich bags)</td>\n",
       "      <td>(sugar, ketchup, all- purpose, laundry detergent)</td>\n",
       "      <td>0.059701</td>\n",
       "      <td>0.025461</td>\n",
       "      <td>0.011414</td>\n",
       "      <td>0.191176</td>\n",
       "      <td>7.508621</td>\n",
       "      <td>0.009893</td>\n",
       "      <td>1.204885</td>\n",
       "    </tr>\n",
       "    <tr>\n",
       "      <th>22002785</th>\n",
       "      <td>(beef, pasta, sandwich bags, lunch meat)</td>\n",
       "      <td>(fruits, spaghetti sauce, shampoo)</td>\n",
       "      <td>0.026339</td>\n",
       "      <td>0.053556</td>\n",
       "      <td>0.010536</td>\n",
       "      <td>0.400000</td>\n",
       "      <td>7.468852</td>\n",
       "      <td>0.009125</td>\n",
       "      <td>1.577407</td>\n",
       "    </tr>\n",
       "    <tr>\n",
       "      <th>22002816</th>\n",
       "      <td>(fruits, spaghetti sauce, shampoo)</td>\n",
       "      <td>(beef, pasta, sandwich bags, lunch meat)</td>\n",
       "      <td>0.053556</td>\n",
       "      <td>0.026339</td>\n",
       "      <td>0.010536</td>\n",
       "      <td>0.196721</td>\n",
       "      <td>7.468852</td>\n",
       "      <td>0.009125</td>\n",
       "      <td>1.212109</td>\n",
       "    </tr>\n",
       "    <tr>\n",
       "      <th>21916463</th>\n",
       "      <td>(soap, flour, laundry detergent, sandwich bags)</td>\n",
       "      <td>(sugar, ketchup, all- purpose)</td>\n",
       "      <td>0.027217</td>\n",
       "      <td>0.057068</td>\n",
       "      <td>0.011414</td>\n",
       "      <td>0.419355</td>\n",
       "      <td>7.348387</td>\n",
       "      <td>0.009860</td>\n",
       "      <td>1.623939</td>\n",
       "    </tr>\n",
       "    <tr>\n",
       "      <th>21916518</th>\n",
       "      <td>(sugar, ketchup, all- purpose)</td>\n",
       "      <td>(soap, flour, laundry detergent, sandwich bags)</td>\n",
       "      <td>0.057068</td>\n",
       "      <td>0.027217</td>\n",
       "      <td>0.011414</td>\n",
       "      <td>0.200000</td>\n",
       "      <td>7.348387</td>\n",
       "      <td>0.009860</td>\n",
       "      <td>1.215979</td>\n",
       "    </tr>\n",
       "    <tr>\n",
       "      <th>21986687</th>\n",
       "      <td>(soap, pasta, pork)</td>\n",
       "      <td>(ketchup, bagels, soda, waffles)</td>\n",
       "      <td>0.047410</td>\n",
       "      <td>0.030729</td>\n",
       "      <td>0.010536</td>\n",
       "      <td>0.222222</td>\n",
       "      <td>7.231746</td>\n",
       "      <td>0.009079</td>\n",
       "      <td>1.246206</td>\n",
       "    </tr>\n",
       "    <tr>\n",
       "      <th>21986658</th>\n",
       "      <td>(ketchup, bagels, soda, waffles)</td>\n",
       "      <td>(soap, pasta, pork)</td>\n",
       "      <td>0.030729</td>\n",
       "      <td>0.047410</td>\n",
       "      <td>0.010536</td>\n",
       "      <td>0.342857</td>\n",
       "      <td>7.231746</td>\n",
       "      <td>0.009079</td>\n",
       "      <td>1.449593</td>\n",
       "    </tr>\n",
       "    <tr>\n",
       "      <th>21916480</th>\n",
       "      <td>(sugar, flour, all- purpose, sandwich bags)</td>\n",
       "      <td>(ketchup, soap, laundry detergent)</td>\n",
       "      <td>0.022827</td>\n",
       "      <td>0.069359</td>\n",
       "      <td>0.011414</td>\n",
       "      <td>0.500000</td>\n",
       "      <td>7.208861</td>\n",
       "      <td>0.009830</td>\n",
       "      <td>1.861282</td>\n",
       "    </tr>\n",
       "    <tr>\n",
       "      <th>21916501</th>\n",
       "      <td>(ketchup, soap, laundry detergent)</td>\n",
       "      <td>(sugar, flour, all- purpose, sandwich bags)</td>\n",
       "      <td>0.069359</td>\n",
       "      <td>0.022827</td>\n",
       "      <td>0.011414</td>\n",
       "      <td>0.164557</td>\n",
       "      <td>7.208861</td>\n",
       "      <td>0.009830</td>\n",
       "      <td>1.169646</td>\n",
       "    </tr>\n",
       "    <tr>\n",
       "      <th>22045258</th>\n",
       "      <td>(lunch meat, coffee/tea, sandwich loaves, soda)</td>\n",
       "      <td>(soap, milk, waffles)</td>\n",
       "      <td>0.026339</td>\n",
       "      <td>0.065847</td>\n",
       "      <td>0.012291</td>\n",
       "      <td>0.466667</td>\n",
       "      <td>7.087111</td>\n",
       "      <td>0.010557</td>\n",
       "      <td>1.751536</td>\n",
       "    </tr>\n",
       "    <tr>\n",
       "      <th>22045267</th>\n",
       "      <td>(soap, milk, waffles)</td>\n",
       "      <td>(lunch meat, coffee/tea, sandwich loaves, soda)</td>\n",
       "      <td>0.065847</td>\n",
       "      <td>0.026339</td>\n",
       "      <td>0.012291</td>\n",
       "      <td>0.186667</td>\n",
       "      <td>7.087111</td>\n",
       "      <td>0.010557</td>\n",
       "      <td>1.197124</td>\n",
       "    </tr>\n",
       "  </tbody>\n",
       "</table>\n",
       "</div>"
      ],
      "text/plain": [
       "                                                antecedents  \\\n",
       "21916487      (sugar, ketchup, sandwich bags, all- purpose)   \n",
       "21916494                   (soap, flour, laundry detergent)   \n",
       "21907032   (fruits, coffee/tea, all- purpose, toilet paper)   \n",
       "21907049                            (beef, cereals, butter)   \n",
       "22026356          (individual meals, milk, ice cream, pork)   \n",
       "22026369                (shampoo, sandwich loaves, cereals)   \n",
       "22029884               (ketchup, milk, lunch meat, cheeses)   \n",
       "22029897                           (soap, coffee/tea, pork)   \n",
       "21916488  (sugar, ketchup, all- purpose, laundry detergent)   \n",
       "21916493                       (soap, flour, sandwich bags)   \n",
       "22002785           (beef, pasta, sandwich bags, lunch meat)   \n",
       "22002816                 (fruits, spaghetti sauce, shampoo)   \n",
       "21916463    (soap, flour, laundry detergent, sandwich bags)   \n",
       "21916518                     (sugar, ketchup, all- purpose)   \n",
       "21986687                                (soap, pasta, pork)   \n",
       "21986658                   (ketchup, bagels, soda, waffles)   \n",
       "21916480        (sugar, flour, all- purpose, sandwich bags)   \n",
       "21916501                 (ketchup, soap, laundry detergent)   \n",
       "22045258    (lunch meat, coffee/tea, sandwich loaves, soda)   \n",
       "22045267                              (soap, milk, waffles)   \n",
       "\n",
       "                                                consequents  \\\n",
       "21916487                   (soap, flour, laundry detergent)   \n",
       "21916494      (sugar, ketchup, sandwich bags, all- purpose)   \n",
       "21907032                            (beef, cereals, butter)   \n",
       "21907049   (fruits, coffee/tea, all- purpose, toilet paper)   \n",
       "22026356                (shampoo, sandwich loaves, cereals)   \n",
       "22026369          (individual meals, milk, ice cream, pork)   \n",
       "22029884                           (soap, coffee/tea, pork)   \n",
       "22029897               (ketchup, milk, lunch meat, cheeses)   \n",
       "21916488                       (soap, flour, sandwich bags)   \n",
       "21916493  (sugar, ketchup, all- purpose, laundry detergent)   \n",
       "22002785                 (fruits, spaghetti sauce, shampoo)   \n",
       "22002816           (beef, pasta, sandwich bags, lunch meat)   \n",
       "21916463                     (sugar, ketchup, all- purpose)   \n",
       "21916518    (soap, flour, laundry detergent, sandwich bags)   \n",
       "21986687                   (ketchup, bagels, soda, waffles)   \n",
       "21986658                                (soap, pasta, pork)   \n",
       "21916480                 (ketchup, soap, laundry detergent)   \n",
       "21916501        (sugar, flour, all- purpose, sandwich bags)   \n",
       "22045258                              (soap, milk, waffles)   \n",
       "22045267    (lunch meat, coffee/tea, sandwich loaves, soda)   \n",
       "\n",
       "          antecedent support  consequent support   support  confidence  \\\n",
       "21916487            0.023705            0.058824  0.011414    0.481481   \n",
       "21916494            0.058824            0.023705  0.011414    0.194030   \n",
       "21907032            0.022827            0.058824  0.010536    0.461538   \n",
       "21907049            0.058824            0.022827  0.010536    0.179104   \n",
       "22026356            0.020193            0.067603  0.010536    0.521739   \n",
       "22026369            0.067603            0.020193  0.010536    0.155844   \n",
       "22029884            0.022827            0.065847  0.011414    0.500000   \n",
       "22029897            0.065847            0.022827  0.011414    0.173333   \n",
       "21916488            0.025461            0.059701  0.011414    0.448276   \n",
       "21916493            0.059701            0.025461  0.011414    0.191176   \n",
       "22002785            0.026339            0.053556  0.010536    0.400000   \n",
       "22002816            0.053556            0.026339  0.010536    0.196721   \n",
       "21916463            0.027217            0.057068  0.011414    0.419355   \n",
       "21916518            0.057068            0.027217  0.011414    0.200000   \n",
       "21986687            0.047410            0.030729  0.010536    0.222222   \n",
       "21986658            0.030729            0.047410  0.010536    0.342857   \n",
       "21916480            0.022827            0.069359  0.011414    0.500000   \n",
       "21916501            0.069359            0.022827  0.011414    0.164557   \n",
       "22045258            0.026339            0.065847  0.012291    0.466667   \n",
       "22045267            0.065847            0.026339  0.012291    0.186667   \n",
       "\n",
       "              lift  leverage  conviction  \n",
       "21916487  8.185185  0.010019    1.815126  \n",
       "21916494  8.185185  0.010019    1.211329  \n",
       "21907032  7.846154  0.009193    1.747899  \n",
       "21907049  7.846154  0.009193    1.190374  \n",
       "22026356  7.717674  0.009170    1.949557  \n",
       "22026369  7.717674  0.009170    1.160694  \n",
       "22029884  7.593333  0.009910    1.868306  \n",
       "22029897  7.593333  0.009910    1.182064  \n",
       "21916488  7.508621  0.009893    1.704291  \n",
       "21916493  7.508621  0.009893    1.204885  \n",
       "22002785  7.468852  0.009125    1.577407  \n",
       "22002816  7.468852  0.009125    1.212109  \n",
       "21916463  7.348387  0.009860    1.623939  \n",
       "21916518  7.348387  0.009860    1.215979  \n",
       "21986687  7.231746  0.009079    1.246206  \n",
       "21986658  7.231746  0.009079    1.449593  \n",
       "21916480  7.208861  0.009830    1.861282  \n",
       "21916501  7.208861  0.009830    1.169646  \n",
       "22045258  7.087111  0.010557    1.751536  \n",
       "22045267  7.087111  0.010557    1.197124  "
      ]
     },
     "execution_count": 40,
     "metadata": {},
     "output_type": "execute_result"
    }
   ],
   "source": [
    "basket.head(20)"
   ]
  },
  {
   "cell_type": "code",
   "execution_count": null,
   "id": "7847105e",
   "metadata": {},
   "outputs": [],
   "source": []
  }
 ],
 "metadata": {
  "kernelspec": {
   "display_name": "Python 3 (ipykernel)",
   "language": "python",
   "name": "python3"
  },
  "language_info": {
   "codemirror_mode": {
    "name": "ipython",
    "version": 3
   },
   "file_extension": ".py",
   "mimetype": "text/x-python",
   "name": "python",
   "nbconvert_exporter": "python",
   "pygments_lexer": "ipython3",
   "version": "3.9.7"
  }
 },
 "nbformat": 4,
 "nbformat_minor": 5
}
